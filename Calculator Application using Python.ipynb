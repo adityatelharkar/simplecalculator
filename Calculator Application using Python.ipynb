{
 "cells": [
  {
   "cell_type": "markdown",
   "id": "bff945da-9ffb-4a3f-b868-ddd7a118a466",
   "metadata": {},
   "source": [
    "## Calculator Application\n",
    "\n",
    "- #### Overview\n",
    "\n",
    "This Python script is a simple calculator application designed to perform basic arithmetic operations such as addition, subtraction, multiplication, and division. It provides a user-friendly interface for entering numbers and selecting the desired operation.\n",
    "\n",
    "- #### Features\n",
    "\n",
    "- **Addition (+):** Adds two numbers.\n",
    "\n",
    "- **Subtraction (-):** Subtracts the second number from the first.\n",
    "\n",
    "- **Multiplication (*):** Multiplies two numbers.\n",
    "\n",
    "- **Division (/):** Divides the first number by the second, with a check to prevent division by zero.\n",
    "\n",
    "**Input Validation:** Ensures the user selects a valid operation and provides feedback for invalid inputs.\n",
    "\n",
    "- #### How to Use\n",
    "\n",
    "Run the Script: Execute the Python script in a Python 3 environment.\n",
    "\n",
    "Enter Numbers: Provide two integers when prompted:\n",
    "\n",
    "Enter 1st Number: Input the first number.\n",
    "\n",
    "Enter 2nd Number: Input the second number.\n",
    "\n",
    "Select Operation: Choose one of the following operations:\n",
    "\n",
    "- \"+\" for addition.\n",
    "\n",
    "- \"-\" for subtraction.\n",
    "\n",
    "- \"*\" for multiplication.\n",
    "\n",
    "- \"/\" for division.\n",
    "\n",
    "**View Result:** The result of the calculation will be displayed. If invalid input or division by zero is detected, an appropriate error message will be shown."
   ]
  },
  {
   "cell_type": "code",
   "execution_count": 17,
   "id": "b81ee77e-c5b8-4826-b03c-e1ea8ec1a193",
   "metadata": {},
   "outputs": [
    {
     "name": "stdin",
     "output_type": "stream",
     "text": [
      "Enter 1st Number:  6\n",
      "Enter 2nd Number:  6\n"
     ]
    },
    {
     "name": "stdout",
     "output_type": "stream",
     "text": [
      "Operations: + for Addition, - for Subtraction, * for Multiplication, / for Division\n"
     ]
    },
    {
     "name": "stdin",
     "output_type": "stream",
     "text": [
      "Enter the operation you want to perform:  +\n"
     ]
    },
    {
     "name": "stdout",
     "output_type": "stream",
     "text": [
      "Result is: 12\n"
     ]
    }
   ],
   "source": [
    "# Calculator Application\n",
    "\n",
    "# Take inputs from the user\n",
    "num1 = int(input(\"Enter 1st Number: \"))\n",
    "num2 = int(input(\"Enter 2nd Number: \"))\n",
    "\n",
    "# Ask the user for the operation they want to perform\n",
    "print(\"Operations: + for Addition, - for Subtraction, * for Multiplication, / for Division\")\n",
    "\n",
    "operation = input(\"Enter the operation you want to perform: \")\n",
    "\n",
    "# Perform the operation\n",
    "if operation == \"+\":\n",
    "    result = num1 + num2\n",
    "elif operation == \"-\":\n",
    "    result = num1 - num2\n",
    "elif operation == \"*\":\n",
    "    result = num1 * num2\n",
    "elif operation == \"/\":\n",
    "    if num2!=0:\n",
    "        result = num1 / num2\n",
    "    else:\n",
    "        result = \"Division by zero is not allowed.\"\n",
    "        \n",
    "else:\n",
    "    result = \"Invalid operation! Please enter one of +, -, *, /.\"\n",
    "\n",
    "# Print the result\n",
    "print(\"Result is:\", result)\n"
   ]
  },
  {
   "cell_type": "code",
   "execution_count": 18,
   "id": "b2b4f289-3789-4d35-8d0f-63d42a4c74dd",
   "metadata": {},
   "outputs": [
    {
     "name": "stderr",
     "output_type": "stream",
     "text": [
      "2025-01-03 15:59:34.130 \n",
      "  \u001b[33m\u001b[1mWarning:\u001b[0m to view this Streamlit app on a browser, run it with the following\n",
      "  command:\n",
      "\n",
      "    streamlit run C:\\Users\\HP\\anaconda3\\Lib\\site-packages\\ipykernel_launcher.py [ARGUMENTS]\n"
     ]
    }
   ],
   "source": [
    "import streamlit as st\n",
    "\n",
    "# Streamlit UI\n",
    "st.title(\"Calculator Application\")\n",
    "st.write(\"Perform basic arithmetic operations (+, -, *, /)\")\n",
    "\n",
    "# Input numbers\n",
    "num1 = st.number_input(\"Enter 1st Number:\", step=1)\n",
    "num2 = st.number_input(\"Enter 2nd Number:\", step=1)\n",
    "\n",
    "# Select operation\n",
    "operation = st.selectbox(\n",
    "    \"Select the operation you want to perform:\",\n",
    "    (\"Addition (+)\", \"Subtraction (-)\", \"Multiplication (*)\", \"Division (/)\")\n",
    ")\n",
    "\n",
    "# Calculate result\n",
    "if st.button(\"Calculate\"):\n",
    "    if operation == \"Addition (+)\":\n",
    "        result = num1 + num2\n",
    "    elif operation == \"Subtraction (-)\":\n",
    "        result = num1 - num2\n",
    "    elif operation == \"Multiplication (*)\":\n",
    "        result = num1 * num2\n",
    "    elif operation == \"Division (/)\":\n",
    "        if num2 != 0:\n",
    "            result = num1 / num2\n",
    "        else:\n",
    "            result = \"Error: Division by zero is not allowed.\"\n",
    "    else:\n",
    "        result = \"Invalid operation!\"\n",
    "    \n",
    "    # Display result\n",
    "    st.write(f\"Result: {result}\")\n"
   ]
  },
  {
   "cell_type": "code",
   "execution_count": null,
   "id": "1fc77c4f-a6dc-4e63-8f35-e0161d925843",
   "metadata": {},
   "outputs": [],
   "source": []
  }
 ],
 "metadata": {
  "kernelspec": {
   "display_name": "Python 3 (ipykernel)",
   "language": "python",
   "name": "python3"
  },
  "language_info": {
   "codemirror_mode": {
    "name": "ipython",
    "version": 3
   },
   "file_extension": ".py",
   "mimetype": "text/x-python",
   "name": "python",
   "nbconvert_exporter": "python",
   "pygments_lexer": "ipython3",
   "version": "3.12.4"
  }
 },
 "nbformat": 4,
 "nbformat_minor": 5
}
